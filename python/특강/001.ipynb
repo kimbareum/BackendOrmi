{
 "cells": [
  {
   "cell_type": "code",
   "execution_count": null,
   "metadata": {},
   "outputs": [],
   "source": [
    "square_gen = (x**2 for x in range(10))  # 0부터 9까지의 제너레이터\n",
    "\n",
    "gen = (i for i in range(2, 100000000, 2))\n",
    "for i, j in zip(range(10), gen):\n",
    "    print(i, j)"
   ]
  },
  {
   "cell_type": "code",
   "execution_count": null,
   "metadata": {},
   "outputs": [],
   "source": [
    "def outer_function(x):\n",
    "    def inner_function(y):\n",
    "        return x + y\n",
    "    return inner_function"
   ]
  },
  {
   "cell_type": "code",
   "execution_count": null,
   "metadata": {},
   "outputs": [],
   "source": [
    "# step 1\n",
    "def data_Preprocessing(function):\n",
    "    def wrapper():\n",
    "        pass\n",
    "    return wrapper\n",
    "\n",
    "@data_Preprocessing\n",
    "def mean(data):\n",
    "    return sum(data)/len(data)\n",
    "\n",
    "mean([1, 2, '3', 4, '5'])\n",
    "\n",
    "\n",
    "# step 2\n",
    "def data_Preprocessing(function):\n",
    "    def wrapper(data):\n",
    "        print(data)\n",
    "    return wrapper\n",
    "\n",
    "@data_Preprocessing\n",
    "def mean(data):\n",
    "    return sum(data)/len(data)\n",
    "\n",
    "mean([1, 2, '3', 4, '5'])\n",
    "\n",
    "\n",
    "# step 3\n",
    "def data_Preprocessing(function):\n",
    "    def wrapper(data):\n",
    "        return function(list(map(int, data)))\n",
    "    return wrapper\n",
    "\n",
    "@data_Preprocessing\n",
    "def mean(data):\n",
    "    return sum(data)/len(data)\n",
    "\n",
    "mean([1, 2, '3', 4, '5'])\n",
    "\n",
    "\n",
    "# step 4 문제\n",
    "# 아래 주석 2개가 된 코드가 작동이 되로록 데코레이터를 완성해주세요.(정답은 제공되지 않습니다. 여러분이 풀어보세요.)\n",
    "\n",
    "def data_Preprocessing(function):\n",
    "    def wrapper(data):\n",
    "        return function(list(map(int, data)))\n",
    "    return wrapper\n",
    "\n",
    "@data_Preprocessing\n",
    "def mean(data):\n",
    "    return sum(data)/len(data)\n",
    "\n",
    "# mean([1, 2, '3', 4, '5', 'a'])\n",
    "# mean([1, 2, '3', 4, '5', ''])"
   ]
  },
  {
   "cell_type": "code",
   "execution_count": null,
   "metadata": {},
   "outputs": [],
   "source": [
    "def add(n):\n",
    "    def decorator(function):\n",
    "        def new_function(a, b):\n",
    "            result = function(a, b)\n",
    "            return result + n\n",
    "        return new_function\n",
    "    return decorator\n",
    "\n",
    "@add(1000)\n",
    "def plus(a, b):\n",
    "    return a + b\n",
    "\n",
    "result = plus(10, 20)\n",
    "print(f'result : {result}')"
   ]
  },
  {
   "cell_type": "code",
   "execution_count": null,
   "metadata": {},
   "outputs": [],
   "source": [
    "class MyClass:\n",
    "    count = 0\n",
    "\n",
    "    @classmethod\n",
    "    def increment(cls):\n",
    "        cls.count += 1\n",
    "\n",
    "MyClass.increment()\n",
    "print(MyClass.count)  # 출력: 1"
   ]
  },
  {
   "cell_type": "code",
   "execution_count": null,
   "metadata": {},
   "outputs": [],
   "source": [
    "class MyClass:\n",
    "    @staticmethod\n",
    "    def my_method(x, y):\n",
    "        return x + y\n",
    "\n",
    "print(MyClass.my_method(5, 3))  # 출력: 8"
   ]
  },
  {
   "cell_type": "code",
   "execution_count": null,
   "metadata": {},
   "outputs": [],
   "source": [
    "class Person:\n",
    "    def __init__(self, first_name, last_name):\n",
    "        self._first_name = first_name\n",
    "        self._last_name = last_name\n",
    "\n",
    "    @property\n",
    "    def full_name(self):\n",
    "        return f\"{self._first_name} {self._last_name}\"\n",
    "\n",
    "hojun = Person('lee', 'hojun')\n",
    "hojun._first_name\n",
    "hojun._last_name\n",
    "hojun.full_name\n",
    "# @property는 함수를 property마냥 사용하게 해주는 애."
   ]
  },
  {
   "cell_type": "code",
   "execution_count": 5,
   "metadata": {},
   "outputs": [],
   "source": [
    "# 덕타이핑\n"
   ]
  },
  {
   "cell_type": "code",
   "execution_count": null,
   "metadata": {},
   "outputs": [],
   "source": [
    "# 추상메서드 => 인터페이스구현할때 사용\n",
    "from abc import ABC, abstractmethod\n",
    "\n",
    "class AbstractClassExample(ABC):\n",
    "\n",
    "    @abstractmethod\n",
    "    def do_something(self):\n",
    "        pass\n",
    "\n",
    "class Person(AbstractClassExample):\n",
    "\n",
    "    def __init__(self, name):\n",
    "        self.name = name\n",
    "\n",
    "    def print_name(self):\n",
    "        print(f'제 이름은 {self.name}입니다.')\n",
    "\n",
    "    def do_something(self):\n",
    "        pass\n",
    "\n",
    "hojun = Person('hojun')\n",
    "hojun.print_name()"
   ]
  },
  {
   "cell_type": "code",
   "execution_count": null,
   "metadata": {},
   "outputs": [],
   "source": [
    "!pip list"
   ]
  },
  {
   "cell_type": "code",
   "execution_count": null,
   "metadata": {},
   "outputs": [],
   "source": [
    "import sampletest # 위치를 옮기기전, 기본 폴더에 있음."
   ]
  },
  {
   "cell_type": "code",
   "execution_count": null,
   "metadata": {},
   "outputs": [],
   "source": [
    "import sys\n",
    "sys.modules # import 한 모듈은 여기에 등록됨."
   ]
  },
  {
   "cell_type": "code",
   "execution_count": null,
   "metadata": {},
   "outputs": [],
   "source": [
    "sampletest.name # 한번 import 하게 되면 위치를 옮겨도 사용이 가능함."
   ]
  },
  {
   "cell_type": "code",
   "execution_count": 6,
   "metadata": {},
   "outputs": [],
   "source": [
    "sys.path.append('a/b/c') # 모듈을 찾는 기본 경로를 추가하는 방법."
   ]
  },
  {
   "cell_type": "code",
   "execution_count": 7,
   "metadata": {},
   "outputs": [],
   "source": [
    "import sampletest # 위치옮기든 원래위치에 있든 실행됨.\n",
    "sampletest.name"
   ]
  },
  {
   "cell_type": "code",
   "execution_count": null,
   "metadata": {},
   "outputs": [],
   "source": [
    "assert 1 # 조건에 맞지않으면 에러를 발생시키는 방법\n",
    "test = 'hello'\n",
    "\n",
    "assert test == 'hello', '애러 메시지 1' #1\n",
    "# assert test == 'world', '애러 메시지 2' #2\n",
    "assert test + 3 == 5, '애러 메시지 3' #3"
   ]
  },
  {
   "cell_type": "code",
   "execution_count": 11,
   "metadata": {},
   "outputs": [
    {
     "name": "stdout",
     "output_type": "stream",
     "text": [
      "---\n",
      "division by zero\n"
     ]
    }
   ],
   "source": [
    "import logging.handlers\n",
    "\n",
    "def logger():\n",
    "    log_obj = logging.getLogger(\"log_name\") # log name으로 log 객체 생성\n",
    "    log_obj.setLevel(logging.DEBUG) # 어디부터 기록할지 설정\n",
    "\n",
    "    fileHandeler = logging.FileHandler(filename=\"./test.txt\") # 파일로 기록\n",
    "    # streamHandler = logging.StreamHandler() # 콘솔에 출력\n",
    "\n",
    "    fileHandeler.setLevel(logging.INFO) # 파일 기록 레벨 설정\n",
    "    # streamHandler.setLevel(logging.DEBUG) # 콘솔 기록 레벨 설정\n",
    "\n",
    "    formatter = logging.Formatter(\"%(name)s, %(asctime)s, %(levelname)s, %(message)s\") #포멧 생성\n",
    "\n",
    "    fileHandeler.setFormatter(formatter) # 파일 메시지 포멧 설정\n",
    "    # streamHandler.setFormatter(formatter) # 콘솔 메시지 포멧 설정\n",
    "\n",
    "    log_obj.addHandler(fileHandeler) # log_obj handler에 파일 출력 방식 추가\n",
    "    # log_obj.addHandler(streamHandler) # log_obj handler에 파일 콘솔 방식 추가\n",
    "\n",
    "    return log_obj\n",
    "\n",
    "log = logger()\n",
    "\n",
    "# 아래 코드를 기록하고 싶은 곳에 함께 설정\n",
    "log.debug('debug')\n",
    "log.info('info')\n",
    "log.warning('warning')\n",
    "log.error('error')\n",
    "log.critical('critical')\n",
    "\n",
    "print('---')\n",
    "\n",
    "# 아래와 같이 사용합니다.\n",
    "def f():\n",
    "    try:\n",
    "        x = 1 / 0\n",
    "    except Exception as e:\n",
    "        print(e)\n",
    "        log.error(f'{e} error')\n",
    "\n",
    "f()"
   ]
  },
  {
   "cell_type": "code",
   "execution_count": 13,
   "metadata": {},
   "outputs": [
    {
     "name": "stdout",
     "output_type": "stream",
     "text": [
      "Job 1 started\n",
      "Job 1 completed\n",
      "Job 2 started\n",
      "Job 2 completed\n",
      "Job 3 started\n",
      "Job 3 completed\n"
     ]
    }
   ],
   "source": [
    "import time\n",
    "\n",
    "def job(number):\n",
    "    print(f\"Job {number} started\")\n",
    "    time.sleep(1)  # 매우 오래 걸리는 작업, 일반 sleep은 CPU를 쉬게 합니다.\n",
    "    print(f\"Job {number} completed\")\n",
    "\n",
    "job(1)\n",
    "job(2)\n",
    "job(3)"
   ]
  },
  {
   "cell_type": "code",
   "execution_count": null,
   "metadata": {},
   "outputs": [],
   "source": [
    "import asyncio\n",
    "\n",
    "async def job(number):\n",
    "    print(f\"Job {number} started\")\n",
    "    await asyncio.sleep(1) # 매우 오래 걸리는 작업, asyncio.sleep은 비동기 처리를 할 수 있도록 합니다.(다른 작업이 가능합니다.)\n",
    "    print(f\"Job {number} completed\")\n",
    "\n",
    "async def main():\n",
    "    await asyncio.gather(job(1), job(2), job(3)) # await asyncio.wait([job(1), job(2), job(3)])\n",
    "\n",
    "asyncio.run(main())\n",
    "print('hello world')"
   ]
  },
  {
   "cell_type": "code",
   "execution_count": 19,
   "metadata": {},
   "outputs": [
    {
     "ename": "NameError",
     "evalue": "name 'unitest' is not defined",
     "output_type": "error",
     "traceback": [
      "\u001b[1;31m---------------------------------------------------------------------------\u001b[0m",
      "\u001b[1;31mNameError\u001b[0m                                 Traceback (most recent call last)",
      "Cell \u001b[1;32mIn[19], line 1\u001b[0m\n\u001b[1;32m----> 1\u001b[0m unitest\n",
      "\u001b[1;31mNameError\u001b[0m: name 'unitest' is not defined"
     ]
    }
   ],
   "source": [
    "unitest\n",
    "\n",
    "# 테스트하는 방법."
   ]
  },
  {
   "cell_type": "code",
   "execution_count": 15,
   "metadata": {},
   "outputs": [
    {
     "name": "stdout",
     "output_type": "stream",
     "text": [
      "> \u001b[1;32mc:\\users\\ehdtk\\appdata\\local\\temp\\ipykernel_2444\\3741102452.py\u001b[0m(6)\u001b[0;36madd_to_ten\u001b[1;34m()\u001b[0m\n",
      "\n",
      "--Return--\n",
      "15\n",
      "> \u001b[1;32mc:\\users\\ehdtk\\appdata\\local\\temp\\ipykernel_2444\\3741102452.py\u001b[0m(6)\u001b[0;36madd_to_ten\u001b[1;34m()\u001b[0m\n",
      "\n",
      "--Call--\n",
      "> \u001b[1;32mc:\\users\\ehdtk\\appdata\\roaming\\python\\python311\\site-packages\\ipython\\core\\displayhook.py\u001b[0m(258)\u001b[0;36m__call__\u001b[1;34m()\u001b[0m\n",
      "\u001b[1;32m    256 \u001b[1;33m        \u001b[0msys\u001b[0m\u001b[1;33m.\u001b[0m\u001b[0mstdout\u001b[0m\u001b[1;33m.\u001b[0m\u001b[0mflush\u001b[0m\u001b[1;33m(\u001b[0m\u001b[1;33m)\u001b[0m\u001b[1;33m\u001b[0m\u001b[1;33m\u001b[0m\u001b[0m\n",
      "\u001b[0m\u001b[1;32m    257 \u001b[1;33m\u001b[1;33m\u001b[0m\u001b[0m\n",
      "\u001b[0m\u001b[1;32m--> 258 \u001b[1;33m    \u001b[1;32mdef\u001b[0m \u001b[0m__call__\u001b[0m\u001b[1;33m(\u001b[0m\u001b[0mself\u001b[0m\u001b[1;33m,\u001b[0m \u001b[0mresult\u001b[0m\u001b[1;33m=\u001b[0m\u001b[1;32mNone\u001b[0m\u001b[1;33m)\u001b[0m\u001b[1;33m:\u001b[0m\u001b[1;33m\u001b[0m\u001b[1;33m\u001b[0m\u001b[0m\n",
      "\u001b[0m\u001b[1;32m    259 \u001b[1;33m        \"\"\"Printing with history cache management.\n",
      "\u001b[0m\u001b[1;32m    260 \u001b[1;33m\u001b[1;33m\u001b[0m\u001b[0m\n",
      "\u001b[0m\n"
     ]
    }
   ],
   "source": [
    "import pdb # 디버거\n",
    "\n",
    "def add_to_ten(num):\n",
    "    result = num + 10\n",
    "    pdb.set_trace()  # 디버거를 실행합니다. break 포인트입니다.\n",
    "    # breakpoint() 현재는 이렇게 씀. import 없이.\n",
    "    return result\n",
    "\n",
    "add_to_ten(5)"
   ]
  },
  {
   "cell_type": "code",
   "execution_count": 17,
   "metadata": {},
   "outputs": [],
   "source": [
    "def add(a, b):\n",
    "    return a + b\n",
    "\n",
    "def test():\n",
    "    for i in range(10):\n",
    "        x = add(i, 10)\n",
    "        breakpoint()\n",
    "    for i in range(10):\n",
    "        y = add(i, 100)\n",
    "        breakpoint()\n",
    "\n",
    "test()"
   ]
  },
  {
   "cell_type": "code",
   "execution_count": null,
   "metadata": {},
   "outputs": [],
   "source": [
    "pylint # 파이썬 파일을 정적으로 분석해주는 프로그램."
   ]
  },
  {
   "cell_type": "code",
   "execution_count": null,
   "metadata": {},
   "outputs": [],
   "source": [
    "import cProfile # 프로파일링 도구. 코드의실행시간을 측정하고 어떤 부분이 가장 많은 시간을 소요하는지 측정"
   ]
  }
 ],
 "metadata": {
  "kernelspec": {
   "display_name": "Python 3",
   "language": "python",
   "name": "python3"
  },
  "language_info": {
   "codemirror_mode": {
    "name": "ipython",
    "version": 3
   },
   "file_extension": ".py",
   "mimetype": "text/x-python",
   "name": "python",
   "nbconvert_exporter": "python",
   "pygments_lexer": "ipython3",
   "version": "3.11.3"
  },
  "orig_nbformat": 4
 },
 "nbformat": 4,
 "nbformat_minor": 2
}
